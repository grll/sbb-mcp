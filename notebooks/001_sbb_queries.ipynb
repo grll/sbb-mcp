{
 "cells": [
  {
   "cell_type": "markdown",
   "metadata": {},
   "source": [
    "### get places"
   ]
  },
  {
   "cell_type": "code",
   "execution_count": 4,
   "metadata": {},
   "outputs": [],
   "source": [
    "%load_ext autoreload\n",
    "%autoreload 2"
   ]
  },
  {
   "cell_type": "code",
   "execution_count": 9,
   "metadata": {},
   "outputs": [],
   "source": [
    "import httpx\n",
    "from sbb_mcp import gql_queries\n",
    "from sbb_mcp.models import StopPlace"
   ]
  },
  {
   "cell_type": "code",
   "execution_count": 6,
   "metadata": {},
   "outputs": [],
   "source": [
    "SBB_GRAPHQL_ENDPOINT = \"https://graphql.www.sbb.ch/\"\n",
    "\n",
    "headers = {\n",
    "    \"Accept\": \"application/json\",\n",
    "}\n",
    "\n",
    "variables = {\"input\": {\"type\": \"NAME\", \"value\": \"lausanne\"}, \"language\": \"EN\"}\n",
    "payload = {\n",
    "    \"operationName\": \"GetPlaces\",\n",
    "    \"variables\": variables,\n",
    "    \"query\": gql_queries.get_places,\n",
    "}\n",
    "\n",
    "res = httpx.post(SBB_GRAPHQL_ENDPOINT, json=payload, headers=headers)"
   ]
  },
  {
   "cell_type": "code",
   "execution_count": 14,
   "metadata": {},
   "outputs": [
    {
     "data": {
      "text/plain": [
       "[StopPlace(id='8501120', name='Lausanne', canton=None),\n",
       " StopPlace(id='8589523', name='Lausanne, Bessières', canton=None),\n",
       " StopPlace(id='8501210', name='Lausanne, Bourdonnette', canton=None),\n",
       " StopPlace(id='8592028', name='Lausanne, Délices', canton=None),\n",
       " StopPlace(id='8592050', name='Lausanne, gare', canton=None),\n",
       " StopPlace(id='8592061', name='Lausanne, Jordils', canton=None),\n",
       " StopPlace(id='8501209', name='Lausanne, Malley', canton=None),\n",
       " StopPlace(id='8501207', name='Lausanne, Montelly', canton=None),\n",
       " StopPlace(id='8592086', name='Lausanne, Ouchy-Olympique', canton=None),\n",
       " StopPlace(id='8579237', name='Lausanne, Ours', canton=None)]"
      ]
     },
     "execution_count": 14,
     "metadata": {},
     "output_type": "execute_result"
    }
   ],
   "source": [
    "stop_places = [StopPlace(**place) for place in res.json()[\"data\"][\"places\"]]\n",
    "stop_places"
   ]
  },
  {
   "cell_type": "code",
   "execution_count": null,
   "metadata": {},
   "outputs": [],
   "source": []
  }
 ],
 "metadata": {
  "kernelspec": {
   "display_name": ".venv",
   "language": "python",
   "name": "python3"
  },
  "language_info": {
   "codemirror_mode": {
    "name": "ipython",
    "version": 3
   },
   "file_extension": ".py",
   "mimetype": "text/x-python",
   "name": "python",
   "nbconvert_exporter": "python",
   "pygments_lexer": "ipython3",
   "version": "3.12.7"
  }
 },
 "nbformat": 4,
 "nbformat_minor": 2
}
